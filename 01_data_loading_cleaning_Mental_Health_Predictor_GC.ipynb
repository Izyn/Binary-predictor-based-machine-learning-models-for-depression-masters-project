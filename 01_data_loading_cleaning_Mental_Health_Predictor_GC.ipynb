{
  "cells": [
    {
      "cell_type": "code",
      "execution_count": 1,
      "id": "c5c61f92-f509-4e38-b80c-8734491bdf8f",
      "metadata": {
        "id": "c5c61f92-f509-4e38-b80c-8734491bdf8f",
        "outputId": "6922af60-0884-414b-c3b1-f0f1781708f1"
      },
      "outputs": [
        {
          "name": "stderr",
          "output_type": "stream",
          "text": [
            "[nltk_data] Downloading package wordnet to\n",
            "[nltk_data]     /Users/izinnoushad/nltk_data...\n",
            "[nltk_data]   Package wordnet is already up-to-date!\n"
          ]
        }
      ],
      "source": [
        "#load the necessary libraries for analysis\n",
        "import pandas as pd\n",
        "import numpy as np\n",
        "import matplotlib.pyplot as plt\n",
        "import seaborn as sns\n",
        "import plotly.express as px\n",
        "import plotly.subplots as sp\n",
        "import string\n",
        "import nltk\n",
        "\n",
        "# Downloading the WordNet corpus\n",
        "nltk.download('wordnet')\n",
        "\n",
        "from scipy import stats\n",
        "from scipy.stats import norm, chi2_contingency, f_oneway\n",
        "\n",
        "#filter warnings\n",
        "from warnings import filterwarnings\n",
        "filterwarnings('ignore')\n",
        "\n",
        "\n",
        "from sklearn.feature_extraction.text import CountVectorizer\n",
        "from nltk.corpus import stopwords\n",
        "from nltk.stem import WordNetLemmatizer #Lemmatization: Converts a word to its root form based on its meaning.\n",
        "from sklearn.preprocessing import StandardScaler, MinMaxScaler, label_binarize, LabelEncoder\n",
        "from sklearn.linear_model import LogisticRegression\n",
        "from sklearn.model_selection import train_test_split, GridSearchCV, cross_val_score\n",
        "from sklearn.metrics import accuracy_score, confusion_matrix, classification_report, precision_score, recall_score, f1_score, roc_curve, auc, roc_auc_score\n",
        "from sklearn.svm import SVC\n",
        "from sklearn.multiclass import OneVsOneClassifier\n",
        "from sklearn.calibration import CalibratedClassifierCV\n",
        "from tempfile import mkdtemp\n",
        "from sklearn.decomposition import KernelPCA, PCA\n",
        "from imblearn.pipeline import Pipeline\n",
        "from sklearn.tree import DecisionTreeClassifier\n",
        "from sklearn.neighbors import KNeighborsClassifier\n",
        "from imblearn.over_sampling import SMOTE\n",
        "from sklearn.ensemble import RandomForestClassifier"
      ]
    },
    {
      "cell_type": "markdown",
      "id": "7445e93c-d85c-4461-afa3-990d43976a1a",
      "metadata": {
        "id": "7445e93c-d85c-4461-afa3-990d43976a1a"
      },
      "source": [
        "## Data Set <a class=\"anchor\" id=\"dataset\"></a>\n",
        "---\n",
        "The dataset consists of 413,768 records and 16 attributes, each representing various personal and lifestyle characteristics of individuals. The dataset aims to provide a comprehensive overview of factors that may influence mental health, particularly focusing on aspects related to depression. The attributes include demographic information (e.g., age, marital status, education), lifestyle factors (e.g., smoking status, physical activity level, alcohol consumption), and medical history (e.g., history of mental illness, substance abuse, chronic medical conditions).\n"
      ]
    },
    {
      "cell_type": "markdown",
      "id": "07fd9051-5c4f-4f1b-9b00-837484a84e30",
      "metadata": {
        "id": "07fd9051-5c4f-4f1b-9b00-837484a84e30"
      },
      "source": [
        "### Data Dictionary <a class=\"anchor\" id=\"dict\"></a>\n",
        "\n",
        "To help with the analysis, study the data dictionary below."
      ]
    },
    {
      "cell_type": "markdown",
      "id": "9cb2cce2-3b66-44e9-8980-8879307829f8",
      "metadata": {
        "id": "9cb2cce2-3b66-44e9-8980-8879307829f8"
      },
      "source": [
        "<table>\n",
        "  <tr>\n",
        "    <th style=\"text-align: left; background: lightgrey\">Column Name</th>\n",
        "    <th style=\"text-align: left; background: lightgrey\">Description</th>\n",
        "  </tr>\n",
        "  <tr>\n",
        "    <td>Name</td>\n",
        "    <td>The name of the individual (anonymized for privacy).</td>\n",
        "  </tr>\n",
        "  <tr>\n",
        "    <td>Age</td>\n",
        "    <td>The age of the individual (in years).</td>\n",
        "  </tr>\n",
        "  <tr>\n",
        "    <td>Marital Status</td>\n",
        "    <td>The marital status (e.g., Single, Married, Divorced, Widowed).</td>\n",
        "  </tr>\n",
        "  <tr>\n",
        "    <td>Education Level</td>\n",
        "    <td>The highest level of education attained (e.g., High School, Bachelor's, Master's).</td>\n",
        "  </tr>\n",
        "  <tr>\n",
        "    <td>Number of Children</td>\n",
        "    <td>The number of children the individual has.</td>\n",
        "  </tr>\n",
        "  <tr>\n",
        "    <td>Smoking Status</td>\n",
        "    <td>Indicates whether the individual is a smoker or non-smoker.</td>\n",
        "  </tr>\n",
        "  <tr>\n",
        "    <td>Physical Activity Level</td>\n",
        "    <td>The level of physical activity (e.g., Sedentary, Moderate, Active).</td>\n",
        "  </tr>\n",
        "  <tr>\n",
        "    <td>Employment Status</td>\n",
        "    <td>Employment status (e.g., Employed, Unemployed, Retired).</td>\n",
        "  </tr>\n",
        "  <tr>\n",
        "    <td>Income</td>\n",
        "    <td>Annual income of the individual (in USD).</td>\n",
        "  </tr>\n",
        "  <tr>\n",
        "    <td>Alcohol Consumption</td>\n",
        "    <td>Level of alcohol consumption (e.g., Low, Moderate, High).</td>\n",
        "  </tr>\n",
        "  <tr>\n",
        "    <td>Dietary Habits</td>\n",
        "    <td>Indicates the dietary habits (e.g., Healthy, Moderate, Unhealthy).</td>\n",
        "  </tr>\n",
        "  <tr>\n",
        "    <td>Sleep Patterns</td>\n",
        "    <td>Quality of sleep (e.g., Good, Fair, Poor).</td>\n",
        "  </tr>\n",
        "  <tr>\n",
        "    <td>History of Mental Illness</td>\n",
        "    <td>Whether the individual has a history of mental health issues (Yes/No).</td>\n",
        "  </tr>\n",
        "  <tr>\n",
        "    <td>History of Substance Abuse</td>\n",
        "    <td>Indicates if there is a history of substance abuse (Yes/No).</td>\n",
        "  </tr>\n",
        "  <tr>\n",
        "    <td>Family History of Depression</td>\n",
        "    <td>Indicates if there is a family history of depression (Yes/No).</td>\n",
        "  </tr>\n",
        "  <tr>\n",
        "    <td>Chronic Medical Conditions</td>\n",
        "    <td>Whether the individual has chronic medical conditions (Yes/No).</td>\n",
        "  </tr>\n",
        "</table>\n"
      ]
    },
    {
      "cell_type": "markdown",
      "id": "9a4c2755-c6c6-4176-9c8c-d9b2a2d53261",
      "metadata": {
        "id": "9a4c2755-c6c6-4176-9c8c-d9b2a2d53261"
      },
      "source": [
        "## Initial Data Cleaning <a class=\"anchor\" id=\"cleaning\"></a>\n",
        "---\n"
      ]
    },
    {
      "cell_type": "markdown",
      "id": "c3b71fca-5629-4ac1-b7ed-9e5a8ef5c6d8",
      "metadata": {
        "id": "c3b71fca-5629-4ac1-b7ed-9e5a8ef5c6d8"
      },
      "source": [
        "### Plan of action <a class=\"anchor\" id=\"action\"></a>\n",
        "\n",
        "1. Data Loading\n",
        "2. Initial Data Assessment\n",
        "2. Data Cleaning\n",
        "    - Dealing with duplicated values\n",
        "    - Dealing with redundant columns\n",
        "    - Dealing with null values\n",
        "3. EDA\n",
        "4. Draw insights\n",
        "5. Formulate a conclusion"
      ]
    },
    {
      "cell_type": "markdown",
      "id": "f219b6cb-0b10-4797-b1e7-6556b7208f30",
      "metadata": {
        "id": "f219b6cb-0b10-4797-b1e7-6556b7208f30"
      },
      "source": [
        "### Data Loading <a class=\"anchor\" id=\"load\"></a>\n",
        "---"
      ]
    },
    {
      "cell_type": "code",
      "execution_count": 2,
      "id": "cc6c11b4-0fb4-48f5-898e-dfcc70b86d82",
      "metadata": {
        "id": "cc6c11b4-0fb4-48f5-898e-dfcc70b86d82"
      },
      "outputs": [],
      "source": [
        "# Reading the CSV file downloaded from Kaggle\n",
        "df = pd.read_csv(r'/Users/izinnoushad/Downloads/mental_health_finaldata_1 2.csv')"
      ]
    },
    {
      "cell_type": "code",
      "execution_count": 3,
      "id": "9dab701d-d0f2-4ead-ac3b-b8ba01765df4",
      "metadata": {
        "id": "9dab701d-d0f2-4ead-ac3b-b8ba01765df4",
        "outputId": "7e0818a0-fff6-4914-f958-0a127c09f03c"
      },
      "outputs": [
        {
          "data": {
            "text/html": [
              "<div>\n",
              "<style scoped>\n",
              "    .dataframe tbody tr th:only-of-type {\n",
              "        vertical-align: middle;\n",
              "    }\n",
              "\n",
              "    .dataframe tbody tr th {\n",
              "        vertical-align: top;\n",
              "    }\n",
              "\n",
              "    .dataframe thead th {\n",
              "        text-align: right;\n",
              "    }\n",
              "</style>\n",
              "<table border=\"1\" class=\"dataframe\">\n",
              "  <thead>\n",
              "    <tr style=\"text-align: right;\">\n",
              "      <th></th>\n",
              "      <th>Age</th>\n",
              "      <th>Gender</th>\n",
              "      <th>Occupation</th>\n",
              "      <th>Days_Indoors</th>\n",
              "      <th>Growing_Stress</th>\n",
              "      <th>Quarantine_Frustrations</th>\n",
              "      <th>Changes_Habits</th>\n",
              "      <th>Mental_Health_History</th>\n",
              "      <th>Weight_Change</th>\n",
              "      <th>Mood_Swings</th>\n",
              "      <th>Coping_Struggles</th>\n",
              "      <th>Work_Interest</th>\n",
              "      <th>Social_Weakness</th>\n",
              "    </tr>\n",
              "  </thead>\n",
              "  <tbody>\n",
              "    <tr>\n",
              "      <th>0</th>\n",
              "      <td>20-25</td>\n",
              "      <td>Female</td>\n",
              "      <td>Corporate</td>\n",
              "      <td>1-14 days</td>\n",
              "      <td>Yes</td>\n",
              "      <td>Yes</td>\n",
              "      <td>No</td>\n",
              "      <td>Yes</td>\n",
              "      <td>Yes</td>\n",
              "      <td>Medium</td>\n",
              "      <td>No</td>\n",
              "      <td>No</td>\n",
              "      <td>Yes</td>\n",
              "    </tr>\n",
              "    <tr>\n",
              "      <th>1</th>\n",
              "      <td>30-Above</td>\n",
              "      <td>Male</td>\n",
              "      <td>Others</td>\n",
              "      <td>31-60 days</td>\n",
              "      <td>Yes</td>\n",
              "      <td>Yes</td>\n",
              "      <td>Maybe</td>\n",
              "      <td>No</td>\n",
              "      <td>No</td>\n",
              "      <td>High</td>\n",
              "      <td>No</td>\n",
              "      <td>No</td>\n",
              "      <td>Yes</td>\n",
              "    </tr>\n",
              "    <tr>\n",
              "      <th>2</th>\n",
              "      <td>30-Above</td>\n",
              "      <td>Female</td>\n",
              "      <td>Student</td>\n",
              "      <td>Go out Every day</td>\n",
              "      <td>No</td>\n",
              "      <td>No</td>\n",
              "      <td>Yes</td>\n",
              "      <td>No</td>\n",
              "      <td>No</td>\n",
              "      <td>Medium</td>\n",
              "      <td>Yes</td>\n",
              "      <td>Maybe</td>\n",
              "      <td>No</td>\n",
              "    </tr>\n",
              "    <tr>\n",
              "      <th>3</th>\n",
              "      <td>25-30</td>\n",
              "      <td>Male</td>\n",
              "      <td>Others</td>\n",
              "      <td>1-14 days</td>\n",
              "      <td>Yes</td>\n",
              "      <td>No</td>\n",
              "      <td>Maybe</td>\n",
              "      <td>No</td>\n",
              "      <td>Maybe</td>\n",
              "      <td>Medium</td>\n",
              "      <td>No</td>\n",
              "      <td>Maybe</td>\n",
              "      <td>Yes</td>\n",
              "    </tr>\n",
              "  </tbody>\n",
              "</table>\n",
              "</div>"
            ],
            "text/plain": [
              "        Age  Gender Occupation      Days_Indoors Growing_Stress  \\\n",
              "0     20-25  Female  Corporate         1-14 days            Yes   \n",
              "1  30-Above    Male     Others        31-60 days            Yes   \n",
              "2  30-Above  Female    Student  Go out Every day             No   \n",
              "3     25-30    Male     Others         1-14 days            Yes   \n",
              "\n",
              "  Quarantine_Frustrations Changes_Habits Mental_Health_History Weight_Change  \\\n",
              "0                     Yes             No                   Yes           Yes   \n",
              "1                     Yes          Maybe                    No            No   \n",
              "2                      No            Yes                    No            No   \n",
              "3                      No          Maybe                    No         Maybe   \n",
              "\n",
              "  Mood_Swings Coping_Struggles Work_Interest Social_Weakness  \n",
              "0      Medium               No            No             Yes  \n",
              "1        High               No            No             Yes  \n",
              "2      Medium              Yes         Maybe              No  \n",
              "3      Medium               No         Maybe             Yes  "
            ]
          },
          "execution_count": 3,
          "metadata": {},
          "output_type": "execute_result"
        }
      ],
      "source": [
        "# New DF\n",
        "df.head(4)"
      ]
    },
    {
      "cell_type": "markdown",
      "id": "74572bf1-e700-4503-8dd0-5f8efbb41f85",
      "metadata": {
        "id": "74572bf1-e700-4503-8dd0-5f8efbb41f85"
      },
      "source": [
        "### Data Assesment <a class=\"anchor\" id=\"assess\"></a>\n",
        "---"
      ]
    },
    {
      "cell_type": "markdown",
      "id": "bf0d87fd-6386-4a61-85fa-24836700839d",
      "metadata": {
        "id": "bf0d87fd-6386-4a61-85fa-24836700839d"
      },
      "source": [
        "First lets take a look at the number of rows and columns in this data set"
      ]
    },
    {
      "cell_type": "code",
      "execution_count": 4,
      "id": "5150339a-c3a0-49e6-863c-f8a5fd9cb749",
      "metadata": {
        "id": "5150339a-c3a0-49e6-863c-f8a5fd9cb749",
        "outputId": "b7a87691-8b04-4a6f-c87d-e06ad70af438"
      },
      "outputs": [
        {
          "data": {
            "text/plain": [
              "(824, 13)"
            ]
          },
          "execution_count": 4,
          "metadata": {},
          "output_type": "execute_result"
        }
      ],
      "source": [
        "# Check the shape of the data:\n",
        "df.shape"
      ]
    },
    {
      "cell_type": "code",
      "execution_count": 5,
      "id": "cc451c7b-8512-41b5-86c9-def837f811b5",
      "metadata": {
        "id": "cc451c7b-8512-41b5-86c9-def837f811b5",
        "outputId": "2b5b5e95-d268-4f10-d943-f36002279b99"
      },
      "outputs": [
        {
          "data": {
            "text/plain": [
              "Age       Gender  Occupation  Days_Indoors        Growing_Stress  Quarantine_Frustrations  Changes_Habits  Mental_Health_History  Weight_Change  Mood_Swings  Coping_Struggles  Work_Interest  Social_Weakness\n",
              "16-20     Female  Business    1-14 days           No              No                       Maybe           Yes                    Maybe          High         No                Yes            Yes                1\n",
              "25-30     Male    Housewife   15-30 days          Yes             No                       Maybe           Yes                    No             Medium       No                Maybe          No                 1\n",
              "                              1-14 days           Maybe           Yes                      Yes             Maybe                  No             Low          No                Yes            No                 1\n",
              "                                                                                                           Yes                    Yes            Medium       Yes               No             Yes                1\n",
              "                                                  No              Yes                      Yes             Maybe                  Yes            Medium       Yes               Maybe          Maybe              1\n",
              "                                                                                                                                                                                                                 ..\n",
              "20-25     Female  Others      31-60 days          No              Maybe                    Yes             Maybe                  No             High         Yes               No             Yes                1\n",
              "                                                  Yes             Maybe                    No              Yes                    No             High         No                No             Maybe              1\n",
              "                                                                  No                       No              No                     Yes            Medium       Yes               Yes            Maybe              1\n",
              "                              Go out Every day    Yes             Yes                      Maybe           No                     Maybe          Low          No                Yes            Yes                1\n",
              "30-Above  Male    Student     More than 2 months  Maybe           Yes                      No              Yes                    Maybe          High         Yes               Maybe          No                 1\n",
              "Length: 824, dtype: int64"
            ]
          },
          "execution_count": 5,
          "metadata": {},
          "output_type": "execute_result"
        }
      ],
      "source": [
        "# Checking the value counts from our target\n",
        "df.value_counts()"
      ]
    },
    {
      "cell_type": "markdown",
      "id": "16bd9cc8-0181-483e-82db-6312019458a9",
      "metadata": {
        "id": "16bd9cc8-0181-483e-82db-6312019458a9"
      },
      "source": [
        "**Observations:**\n",
        "\n",
        "The dataset contains 413,768 entries and 16 columns.\n",
        "\n",
        "---\n"
      ]
    },
    {
      "cell_type": "markdown",
      "id": "ec4db428-33b0-4882-a858-38d62f604416",
      "metadata": {
        "id": "ec4db428-33b0-4882-a858-38d62f604416"
      },
      "source": [
        "Next let familiarize ourselves with the data by checking th information contained in the data set."
      ]
    },
    {
      "cell_type": "markdown",
      "id": "50e45da2-a786-45cf-98a0-acfd4f558ed8",
      "metadata": {
        "id": "50e45da2-a786-45cf-98a0-acfd4f558ed8"
      },
      "source": [
        "Next Steps:\n",
        "- Check data types and formats\n",
        "- Check data types Date column (transfor obejct to date format)\n",
        "- Check for duplicates\n",
        "- Check missing data\n",
        "\n",
        "---"
      ]
    },
    {
      "cell_type": "code",
      "execution_count": 6,
      "id": "a23924fd-af8f-4e3b-b3f7-4d96ca957995",
      "metadata": {
        "id": "a23924fd-af8f-4e3b-b3f7-4d96ca957995",
        "outputId": "2a655387-4d30-4e78-9b2d-723ac5ad7a0b"
      },
      "outputs": [
        {
          "name": "stdout",
          "output_type": "stream",
          "text": [
            "<class 'pandas.core.frame.DataFrame'>\n",
            "RangeIndex: 824 entries, 0 to 823\n",
            "Data columns (total 13 columns):\n",
            " #   Column                   Non-Null Count  Dtype \n",
            "---  ------                   --------------  ----- \n",
            " 0   Age                      824 non-null    object\n",
            " 1   Gender                   824 non-null    object\n",
            " 2   Occupation               824 non-null    object\n",
            " 3   Days_Indoors             824 non-null    object\n",
            " 4   Growing_Stress           824 non-null    object\n",
            " 5   Quarantine_Frustrations  824 non-null    object\n",
            " 6   Changes_Habits           824 non-null    object\n",
            " 7   Mental_Health_History    824 non-null    object\n",
            " 8   Weight_Change            824 non-null    object\n",
            " 9   Mood_Swings              824 non-null    object\n",
            " 10  Coping_Struggles         824 non-null    object\n",
            " 11  Work_Interest            824 non-null    object\n",
            " 12  Social_Weakness          824 non-null    object\n",
            "dtypes: object(13)\n",
            "memory usage: 83.8+ KB\n"
          ]
        }
      ],
      "source": [
        "df.info() # There is no nan values."
      ]
    },
    {
      "cell_type": "markdown",
      "id": "113886c2-e50f-4aa4-9b31-5030826151ce",
      "metadata": {
        "id": "113886c2-e50f-4aa4-9b31-5030826151ce"
      },
      "source": [
        "**Observations:**\n",
        "\n",
        "This data set contains the following data types:\n",
        "\n",
        "- `float64`(1)\n",
        "- `int64`(2)\n",
        "- `obect`(13)\n",
        "\n",
        "There seems to not be columns with null values.\n",
        "\n",
        "---"
      ]
    },
    {
      "cell_type": "markdown",
      "id": "a6bc2a62-8d85-4285-b931-39a4968b2076",
      "metadata": {
        "id": "a6bc2a62-8d85-4285-b931-39a4968b2076"
      },
      "source": [
        "Next we will take a look at the number duplicate rows in the dataframe"
      ]
    },
    {
      "cell_type": "code",
      "execution_count": 7,
      "id": "febf93ff-e49b-4b7d-b4ab-39b09f87cf2e",
      "metadata": {
        "id": "febf93ff-e49b-4b7d-b4ab-39b09f87cf2e",
        "outputId": "19bc8e7d-5e43-4304-9170-934e44f5f08b"
      },
      "outputs": [
        {
          "data": {
            "text/plain": [
              "0"
            ]
          },
          "execution_count": 7,
          "metadata": {},
          "output_type": "execute_result"
        }
      ],
      "source": [
        "# Check the number of duplicated rows. There are no duplicate rows in the dataset.\n",
        "df.duplicated().sum()"
      ]
    },
    {
      "cell_type": "code",
      "execution_count": 8,
      "id": "f3ba94be-a812-4c0a-bceb-b9488aa99bad",
      "metadata": {
        "id": "f3ba94be-a812-4c0a-bceb-b9488aa99bad",
        "outputId": "bf74fd32-40f1-4250-b5b5-4c0b85972838"
      },
      "outputs": [
        {
          "data": {
            "text/html": [
              "<div>\n",
              "<style scoped>\n",
              "    .dataframe tbody tr th:only-of-type {\n",
              "        vertical-align: middle;\n",
              "    }\n",
              "\n",
              "    .dataframe tbody tr th {\n",
              "        vertical-align: top;\n",
              "    }\n",
              "\n",
              "    .dataframe thead th {\n",
              "        text-align: right;\n",
              "    }\n",
              "</style>\n",
              "<table border=\"1\" class=\"dataframe\">\n",
              "  <thead>\n",
              "    <tr style=\"text-align: right;\">\n",
              "      <th></th>\n",
              "      <th>Age</th>\n",
              "      <th>Gender</th>\n",
              "      <th>Occupation</th>\n",
              "      <th>Days_Indoors</th>\n",
              "      <th>Growing_Stress</th>\n",
              "      <th>Quarantine_Frustrations</th>\n",
              "      <th>Changes_Habits</th>\n",
              "      <th>Mental_Health_History</th>\n",
              "      <th>Weight_Change</th>\n",
              "      <th>Mood_Swings</th>\n",
              "      <th>Coping_Struggles</th>\n",
              "      <th>Work_Interest</th>\n",
              "      <th>Social_Weakness</th>\n",
              "    </tr>\n",
              "  </thead>\n",
              "  <tbody>\n",
              "  </tbody>\n",
              "</table>\n",
              "</div>"
            ],
            "text/plain": [
              "Empty DataFrame\n",
              "Columns: [Age, Gender, Occupation, Days_Indoors, Growing_Stress, Quarantine_Frustrations, Changes_Habits, Mental_Health_History, Weight_Change, Mood_Swings, Coping_Struggles, Work_Interest, Social_Weakness]\n",
              "Index: []"
            ]
          },
          "execution_count": 8,
          "metadata": {},
          "output_type": "execute_result"
        }
      ],
      "source": [
        "# Identify all rows that are duplicated including their first occurrences\n",
        "duplicate_rows_with_original = df[df.duplicated(keep=False)]\n",
        "\n",
        "# Display the first two sets of duplicated rows with their original counterparts\n",
        "duplicate_rows_with_original.head(4)  # showing both original and duplicated rows\n"
      ]
    },
    {
      "cell_type": "markdown",
      "id": "88f78a12-d8db-43a0-ab39-2fcb8caf34df",
      "metadata": {
        "id": "88f78a12-d8db-43a0-ab39-2fcb8caf34df"
      },
      "source": [
        "**Observations:**\n",
        "\n",
        "No duplicate entries were found.\n",
        "\n",
        "---\n"
      ]
    },
    {
      "cell_type": "markdown",
      "id": "78416038-3378-43f6-896d-2b28cb5f6a6d",
      "metadata": {
        "id": "78416038-3378-43f6-896d-2b28cb5f6a6d"
      },
      "source": [
        "Next we will take a look if any columns are duplicated by transposing the dataframe and running the duplicated function from above."
      ]
    },
    {
      "cell_type": "code",
      "execution_count": 9,
      "id": "9dd22f96-dc31-4bff-b8ab-f25184f89f4d",
      "metadata": {
        "id": "9dd22f96-dc31-4bff-b8ab-f25184f89f4d"
      },
      "outputs": [],
      "source": [
        "# Transpose the data frame and then look for duplicated rows to determine if any of the columns are duplicated:\n",
        "#df.T.duplicated().sum() # this will take time to run!"
      ]
    },
    {
      "cell_type": "markdown",
      "id": "7b819ddb-cde3-4f91-8cf2-40d8f45ae4b3",
      "metadata": {
        "id": "7b819ddb-cde3-4f91-8cf2-40d8f45ae4b3"
      },
      "source": [
        "**Observations:**\n",
        "\n",
        "There is no duplicated columns in this data frame.\n",
        "\n",
        "---"
      ]
    },
    {
      "cell_type": "markdown",
      "id": "fd151d17-f6cf-45e6-aa74-dddab7fe8ef7",
      "metadata": {
        "id": "fd151d17-f6cf-45e6-aa74-dddab7fe8ef7"
      },
      "source": [
        "### Handling Missing Values <a class=\"anchor\" id=\"missing\"></a>"
      ]
    },
    {
      "cell_type": "code",
      "execution_count": 10,
      "id": "0c010b55-0fa9-4b5e-b020-70cc1d575b43",
      "metadata": {
        "id": "0c010b55-0fa9-4b5e-b020-70cc1d575b43",
        "outputId": "822cd734-758c-4897-afa7-1e422824db12"
      },
      "outputs": [
        {
          "name": "stdout",
          "output_type": "stream",
          "text": [
            "Age                        0\n",
            "Gender                     0\n",
            "Occupation                 0\n",
            "Days_Indoors               0\n",
            "Growing_Stress             0\n",
            "Quarantine_Frustrations    0\n",
            "Changes_Habits             0\n",
            "Mental_Health_History      0\n",
            "Weight_Change              0\n",
            "Mood_Swings                0\n",
            "Coping_Struggles           0\n",
            "Work_Interest              0\n",
            "Social_Weakness            0\n",
            "dtype: int64\n"
          ]
        }
      ],
      "source": [
        "# Checking for missing values in each column. There are no missing values in the dataset.\n",
        "missing_values = df.isnull().sum()\n",
        "print(missing_values)"
      ]
    },
    {
      "cell_type": "code",
      "execution_count": 11,
      "id": "650d37ac-6d34-4cdb-a634-8188acd6c784",
      "metadata": {
        "id": "650d37ac-6d34-4cdb-a634-8188acd6c784",
        "outputId": "50575c90-5699-4b2a-929c-fefe9b6c8567"
      },
      "outputs": [
        {
          "data": {
            "text/plain": [
              "Series([], dtype: float64)"
            ]
          },
          "execution_count": 11,
          "metadata": {},
          "output_type": "execute_result"
        }
      ],
      "source": [
        "#check for missing values:\n",
        "null_counts = df.isna().sum()\n",
        "columns_with_nulls = null_counts[null_counts > 0]\n",
        "columns_with_nulls\n",
        "#lets take a look at the percentage of the data that these nulls make up\n",
        "percentage_nulls = columns_with_nulls/df.shape[0]*100\n",
        "percentage_nulls"
      ]
    },
    {
      "cell_type": "code",
      "execution_count": 12,
      "id": "8de11ec1-cfb7-4374-932c-d947db511a8e",
      "metadata": {
        "id": "8de11ec1-cfb7-4374-932c-d947db511a8e",
        "outputId": "d282f35b-775d-4316-e318-8d0b0741c8e3"
      },
      "outputs": [
        {
          "data": {
            "image/png": "[encoded data removed]",
            "text/plain": [
              "<Figure size 640x480 with 2 Axes>"
            ]
          },
          "metadata": {},
          "output_type": "display_data"
        }
      ],
      "source": [
        "# Visualize missing data using a heatmap\n",
        "sns.heatmap(df.isnull())\n",
        "plt.show()"
      ]
    },
    {
      "cell_type": "markdown",
      "id": "e9509972-9c9a-4cf3-a760-f58282b2b68e",
      "metadata": {
        "id": "e9509972-9c9a-4cf3-a760-f58282b2b68e"
      },
      "source": [
        "**Observations:**\n",
        "\n",
        "There is no missing values.\n",
        "\n",
        "---"
      ]
    },
    {
      "cell_type": "markdown",
      "id": "189ca57d-5828-4eaa-a513-5bdd69ef8288",
      "metadata": {
        "id": "189ca57d-5828-4eaa-a513-5bdd69ef8288"
      },
      "source": [
        "## Finding Summary <a class=\"anchor\" id=\"findings\"></a>\n",
        "\n",
        "The data has been assessed and cleaned by performing the following steps:\n",
        "\n",
        "- Checking for duplicated\n",
        "- Checking redundant or insignificant rows\n",
        "- Checking columns with a high proportion of null values\n",
        "- Converting date datatype to date format\n",
        "\n",
        "Before we move forward let's create a copy of our df:"
      ]
    },
    {
      "cell_type": "code",
      "execution_count": 13,
      "id": "57b6d820-e994-47b5-b690-64f75de407f3",
      "metadata": {
        "id": "57b6d820-e994-47b5-b690-64f75de407f3"
      },
      "outputs": [],
      "source": [
        "df_2 = df.copy()"
      ]
    },
    {
      "cell_type": "code",
      "execution_count": 14,
      "id": "d5abdc52-1f92-41a7-8f41-b19b5cd2f72d",
      "metadata": {
        "id": "d5abdc52-1f92-41a7-8f41-b19b5cd2f72d"
      },
      "outputs": [],
      "source": [
        "# For sanity lets check the DF info and see if the total rows decreased by 539. Total should be 515199"
      ]
    },
    {
      "cell_type": "code",
      "execution_count": 15,
      "id": "48b986d6-5868-4cc9-8905-3525ee323c03",
      "metadata": {
        "id": "48b986d6-5868-4cc9-8905-3525ee323c03",
        "outputId": "a0ddf004-175c-4990-f9db-d10333508f62"
      },
      "outputs": [
        {
          "name": "stdout",
          "output_type": "stream",
          "text": [
            "<class 'pandas.core.frame.DataFrame'>\n",
            "RangeIndex: 824 entries, 0 to 823\n",
            "Data columns (total 13 columns):\n",
            " #   Column                   Non-Null Count  Dtype \n",
            "---  ------                   --------------  ----- \n",
            " 0   Age                      824 non-null    object\n",
            " 1   Gender                   824 non-null    object\n",
            " 2   Occupation               824 non-null    object\n",
            " 3   Days_Indoors             824 non-null    object\n",
            " 4   Growing_Stress           824 non-null    object\n",
            " 5   Quarantine_Frustrations  824 non-null    object\n",
            " 6   Changes_Habits           824 non-null    object\n",
            " 7   Mental_Health_History    824 non-null    object\n",
            " 8   Weight_Change            824 non-null    object\n",
            " 9   Mood_Swings              824 non-null    object\n",
            " 10  Coping_Struggles         824 non-null    object\n",
            " 11  Work_Interest            824 non-null    object\n",
            " 12  Social_Weakness          824 non-null    object\n",
            "dtypes: object(13)\n",
            "memory usage: 83.8+ KB\n"
          ]
        }
      ],
      "source": [
        "df_2.info()"
      ]
    },
    {
      "cell_type": "markdown",
      "id": "c9b71e28-1881-4ed0-b6f1-bad81f3e8d5d",
      "metadata": {
        "id": "c9b71e28-1881-4ed0-b6f1-bad81f3e8d5d"
      },
      "source": [
        "## Understanding the Categorical Data Type for Future Analysis:"
      ]
    },
    {
      "cell_type": "code",
      "execution_count": 16,
      "id": "7d75adde-b47d-40f0-b7e2-75ae6e0c6e7a",
      "metadata": {
        "id": "7d75adde-b47d-40f0-b7e2-75ae6e0c6e7a",
        "outputId": "c9734837-7952-4841-b5c9-b4d9e2fc260f",
        "scrolled": true
      },
      "outputs": [
        {
          "name": "stdout",
          "output_type": "stream",
          "text": [
            "30-Above    222\n",
            "16-20       211\n",
            "25-30       205\n",
            "20-25       186\n",
            "Name: Age, dtype: int64\n",
            "Female    434\n",
            "Male      390\n",
            "Name: Gender, dtype: int64\n",
            "Housewife    185\n",
            "Student      180\n",
            "Corporate    159\n",
            "Others       155\n",
            "Business     145\n",
            "Name: Occupation, dtype: int64\n",
            "31-60 days            171\n",
            "1-14 days             170\n",
            "Go out Every day      168\n",
            "More than 2 months    160\n",
            "15-30 days            155\n",
            "Name: Days_Indoors, dtype: int64\n",
            "Yes      301\n",
            "Maybe    267\n",
            "No       256\n",
            "Name: Growing_Stress, dtype: int64\n",
            "Yes      304\n",
            "Maybe    266\n",
            "No       254\n",
            "Name: Quarantine_Frustrations, dtype: int64\n",
            "Yes      305\n",
            "Maybe    268\n",
            "No       251\n",
            "Name: Changes_Habits, dtype: int64\n",
            "No       284\n",
            "Maybe    282\n",
            "Yes      258\n",
            "Name: Mental_Health_History, dtype: int64\n",
            "Maybe    281\n",
            "No       275\n",
            "Yes      268\n",
            "Name: Weight_Change, dtype: int64\n",
            "Medium    280\n",
            "Low       278\n",
            "High      266\n",
            "Name: Mood_Swings, dtype: int64\n",
            "No     414\n",
            "Yes    410\n",
            "Name: Coping_Struggles, dtype: int64\n",
            "No       295\n",
            "Maybe    281\n",
            "Yes      248\n",
            "Name: Work_Interest, dtype: int64\n",
            "Maybe    287\n",
            "No       278\n",
            "Yes      259\n",
            "Name: Social_Weakness, dtype: int64\n"
          ]
        }
      ],
      "source": [
        "# Displaing the distribution of categorical columns:\n",
        "for column in df_2.select_dtypes(include=['object']).columns:\n",
        "    print(df_2[column].value_counts())"
      ]
    },
    {
      "cell_type": "code",
      "execution_count": 17,
      "id": "d799e151-94ca-49d9-8c23-9fdbde5c4ffe",
      "metadata": {
        "id": "d799e151-94ca-49d9-8c23-9fdbde5c4ffe",
        "outputId": "d500a4fd-d8e7-41ea-a092-5a316f4fcd82"
      },
      "outputs": [
        {
          "data": {
            "text/plain": [
              "{'Age': array(['20-25', '30-Above', '25-30', '16-20'], dtype=object),\n",
              " 'Gender': array(['Female', 'Male'], dtype=object),\n",
              " 'Occupation': array(['Corporate', 'Others', 'Student', 'Housewife', 'Business'],\n",
              "       dtype=object),\n",
              " 'Days_Indoors': array(['1-14 days', '31-60 days', 'Go out Every day',\n",
              "        'More than 2 months', '15-30 days'], dtype=object),\n",
              " 'Growing_Stress': array(['Yes', 'No', 'Maybe'], dtype=object),\n",
              " 'Quarantine_Frustrations': array(['Yes', 'No', 'Maybe'], dtype=object),\n",
              " 'Changes_Habits': array(['No', 'Maybe', 'Yes'], dtype=object),\n",
              " 'Mental_Health_History': array(['Yes', 'No', 'Maybe'], dtype=object),\n",
              " 'Weight_Change': array(['Yes', 'No', 'Maybe'], dtype=object),\n",
              " 'Mood_Swings': array(['Medium', 'High', 'Low'], dtype=object),\n",
              " 'Coping_Struggles': array(['No', 'Yes'], dtype=object),\n",
              " 'Work_Interest': array(['No', 'Maybe', 'Yes'], dtype=object),\n",
              " 'Social_Weakness': array(['Yes', 'No', 'Maybe'], dtype=object)}"
            ]
          },
          "execution_count": 17,
          "metadata": {},
          "output_type": "execute_result"
        }
      ],
      "source": [
        "# Check for unique values in each categorical column to identify inconsistencies\n",
        "unique_values = {column: df_2[column].unique() for column in df_2.select_dtypes(include=['object']).columns}\n",
        "\n",
        "# Display the results for review\n",
        "unique_values"
      ]
    },
    {
      "cell_type": "markdown",
      "id": "0fb3e760-0e02-44b1-80fe-761d0d8319bb",
      "metadata": {
        "id": "0fb3e760-0e02-44b1-80fe-761d0d8319bb"
      },
      "source": [
        "**Observations:**\n",
        "\n",
        "The categorical columns have consistent and clear values, so no immediate corrections are needed. Here are the categories identified:\n",
        "\n",
        "#### Possible Ordinal columns:\n",
        "- **Marital Status**: Married, Widowed, Divorced, Single\n",
        "- **Education Level**: Bachelor's Degree, High School, Master's Degree, Associate Degree, PhD\n",
        "- **Smoking Status**: Non-smoker, Former, Current\n",
        "- **Physical Activity Level**: Active, Sedentary, Moderate\n",
        "- **Employment Status**: Unemployed, Employed\n",
        "- **Alcohol Consumption**: Moderate, High, Low\n",
        "- **Dietary Habits**: Moderate, Unhealthy, Healthy\n",
        "- **Sleep Patterns**: Fair, Good, Poor\n",
        "  \n",
        "\n",
        "#### Possible Binary columns:\n",
        "- **History of Mental Illness**: Yes, No\n",
        "- **History of Substance Abuse**: No, Yes\n",
        "- **Family History of Depression**: Yes, No\n",
        "- **Chronic Medical Conditions**: Yes, No"
      ]
    }
  ],
  "metadata": {
    "colab": {
      "provenance": []
    },
    "kernelspec": {
      "display_name": "base",
      "language": "python",
      "name": "python3"
    },
    "language_info": {
      "codemirror_mode": {
        "name": "ipython",
        "version": 3
      },
      "file_extension": ".py",
      "mimetype": "text/x-python",
      "name": "python",
      "nbconvert_exporter": "python",
      "pygments_lexer": "ipython3",
      "version": "3.10.9"
    }
  },
  "nbformat": 4,
  "nbformat_minor": 5
}
